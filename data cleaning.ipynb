{
 "cells": [
  {
   "cell_type": "code",
   "execution_count": 1,
   "id": "ca59886c-947c-4eeb-87bc-975aab334edf",
   "metadata": {},
   "outputs": [],
   "source": [
    "import pandas as pd"
   ]
  },
  {
   "cell_type": "code",
   "execution_count": 2,
   "id": "dcff55e9-d501-42b9-b609-17071193c252",
   "metadata": {},
   "outputs": [],
   "source": [
    "customer = pd.read_excel('DATA SET.xlsx', sheet_name = 1)\n",
    "ticket = pd.read_excel('DATA SET.xlsx', sheet_name = 2)"
   ]
  },
  {
   "cell_type": "markdown",
   "id": "e1767124-5ef1-4d4d-bbc7-ce19c18abc65",
   "metadata": {},
   "source": [
    "## Working with customer sheet"
   ]
  },
  {
   "cell_type": "code",
   "execution_count": 3,
   "id": "ae12832e-877e-4045-b453-e9985f91d64c",
   "metadata": {},
   "outputs": [
    {
     "data": {
      "text/plain": [
       "customerid    object\n",
       "DOB            int64\n",
       "gender        object\n",
       "address       object\n",
       "Website       object\n",
       "job           object\n",
       "industry      object\n",
       "dtype: object"
      ]
     },
     "execution_count": 3,
     "metadata": {},
     "output_type": "execute_result"
    }
   ],
   "source": [
    "customer.dtypes"
   ]
  },
  {
   "cell_type": "code",
   "execution_count": 4,
   "id": "456fc889-14a5-45c9-93a4-a53fb43758f0",
   "metadata": {},
   "outputs": [],
   "source": [
    "#rename column headers"
   ]
  },
  {
   "cell_type": "code",
   "execution_count": 5,
   "id": "b039317b-8685-4860-9049-6a1dfb56c349",
   "metadata": {},
   "outputs": [],
   "source": [
    "customer.rename(columns={'customerid':'customer_id','DOB':'age'}, inplace = True) "
   ]
  },
  {
   "cell_type": "code",
   "execution_count": 6,
   "id": "89d4cfc0-527b-43ab-b4c0-529fe596f310",
   "metadata": {},
   "outputs": [],
   "source": [
    "#remove unecessary columns"
   ]
  },
  {
   "cell_type": "code",
   "execution_count": 7,
   "id": "e8188dcd-2445-4063-8cf9-248d6de96b2c",
   "metadata": {},
   "outputs": [],
   "source": [
    "customer = customer.drop(columns = {'address','Website'})"
   ]
  },
  {
   "cell_type": "code",
   "execution_count": 8,
   "id": "79e18d5c-4c78-4b20-8fcd-f289ea553d5d",
   "metadata": {},
   "outputs": [
    {
     "data": {
      "text/plain": [
       "customer_id       0\n",
       "age               0\n",
       "gender            0\n",
       "job               0\n",
       "industry       1122\n",
       "dtype: int64"
      ]
     },
     "execution_count": 8,
     "metadata": {},
     "output_type": "execute_result"
    }
   ],
   "source": [
    "customer.isnull().sum()"
   ]
  },
  {
   "cell_type": "code",
   "execution_count": 9,
   "id": "88710156-aa51-4dc8-9c6a-ba35399be913",
   "metadata": {},
   "outputs": [
    {
     "data": {
      "text/plain": [
       "0"
      ]
     },
     "execution_count": 9,
     "metadata": {},
     "output_type": "execute_result"
    }
   ],
   "source": [
    "customer.duplicated().sum()"
   ]
  },
  {
   "cell_type": "code",
   "execution_count": 10,
   "id": "dce722e1-43c4-42a6-b537-08eafb1ef888",
   "metadata": {},
   "outputs": [],
   "source": [
    "#convert number to yyyy in year_of_birth column"
   ]
  },
  {
   "cell_type": "code",
   "execution_count": 11,
   "id": "7e9c4564-9558-41a7-8724-75e2de72d97b",
   "metadata": {
    "scrolled": true
   },
   "outputs": [
    {
     "data": {
      "text/html": [
       "<div>\n",
       "<style scoped>\n",
       "    .dataframe tbody tr th:only-of-type {\n",
       "        vertical-align: middle;\n",
       "    }\n",
       "\n",
       "    .dataframe tbody tr th {\n",
       "        vertical-align: top;\n",
       "    }\n",
       "\n",
       "    .dataframe thead th {\n",
       "        text-align: right;\n",
       "    }\n",
       "</style>\n",
       "<table border=\"1\" class=\"dataframe\">\n",
       "  <thead>\n",
       "    <tr style=\"text-align: right;\">\n",
       "      <th></th>\n",
       "      <th>customer_id</th>\n",
       "      <th>age</th>\n",
       "      <th>gender</th>\n",
       "      <th>job</th>\n",
       "      <th>industry</th>\n",
       "    </tr>\n",
       "  </thead>\n",
       "  <tbody>\n",
       "    <tr>\n",
       "      <th>0</th>\n",
       "      <td>0000000014</td>\n",
       "      <td>36268</td>\n",
       "      <td>Nữ</td>\n",
       "      <td>student</td>\n",
       "      <td>computer</td>\n",
       "    </tr>\n",
       "    <tr>\n",
       "      <th>1</th>\n",
       "      <td>0000000034</td>\n",
       "      <td>35901</td>\n",
       "      <td>Nam</td>\n",
       "      <td>student</td>\n",
       "      <td>health service</td>\n",
       "    </tr>\n",
       "    <tr>\n",
       "      <th>2</th>\n",
       "      <td>0000000051</td>\n",
       "      <td>34319</td>\n",
       "      <td>Nam</td>\n",
       "      <td>blue collar</td>\n",
       "      <td>economics</td>\n",
       "    </tr>\n",
       "    <tr>\n",
       "      <th>3</th>\n",
       "      <td>0000000081</td>\n",
       "      <td>36472</td>\n",
       "      <td>Nam</td>\n",
       "      <td>student</td>\n",
       "      <td>economics</td>\n",
       "    </tr>\n",
       "    <tr>\n",
       "      <th>4</th>\n",
       "      <td>0000000098</td>\n",
       "      <td>34608</td>\n",
       "      <td>Nam</td>\n",
       "      <td>blue collar</td>\n",
       "      <td>health service</td>\n",
       "    </tr>\n",
       "  </tbody>\n",
       "</table>\n",
       "</div>"
      ],
      "text/plain": [
       "  customer_id    age gender          job        industry\n",
       "0  0000000014  36268     Nữ      student        computer\n",
       "1  0000000034  35901    Nam      student  health service\n",
       "2  0000000051  34319    Nam  blue collar       economics\n",
       "3  0000000081  36472    Nam      student       economics\n",
       "4  0000000098  34608    Nam  blue collar  health service"
      ]
     },
     "execution_count": 11,
     "metadata": {},
     "output_type": "execute_result"
    }
   ],
   "source": [
    "customer.head()"
   ]
  },
  {
   "cell_type": "code",
   "execution_count": 12,
   "id": "c080e7ba-7c39-418c-87ab-611f6d69dce2",
   "metadata": {},
   "outputs": [],
   "source": [
    "customer['age'] = pd.to_datetime(customer['age'], unit='D', origin='1899-12-30', errors='coerce').dt.year"
   ]
  },
  {
   "cell_type": "code",
   "execution_count": 13,
   "id": "a0fd8722-751c-4398-b4f0-442fbbece4dc",
   "metadata": {},
   "outputs": [],
   "source": [
    "customer['age'] = 2024 - customer['age']"
   ]
  },
  {
   "cell_type": "code",
   "execution_count": 14,
   "id": "c5480604-3a1f-4f76-aad5-2f6d6402ffb9",
   "metadata": {},
   "outputs": [],
   "source": [
    "#customer['age'] = customer['age'].astype(str).apply(lambda x: x[:-2])"
   ]
  },
  {
   "cell_type": "code",
   "execution_count": 15,
   "id": "3ff93d33-d3fa-4af1-b0dd-a6d2921fd2ab",
   "metadata": {},
   "outputs": [],
   "source": [
    "#change values in gender column"
   ]
  },
  {
   "cell_type": "code",
   "execution_count": 16,
   "id": "fa8358d4-5ed0-4c39-be21-03af57cdd127",
   "metadata": {},
   "outputs": [],
   "source": [
    "customer['gender'] = customer['gender'].str.replace('Nam','male')\n",
    "customer['gender'] = customer['gender'].str.replace('Nữ','female')"
   ]
  },
  {
   "cell_type": "code",
   "execution_count": 17,
   "id": "3293f18d-9305-4fb2-8f65-662a1c2e026a",
   "metadata": {},
   "outputs": [],
   "source": [
    "#uppercase first character"
   ]
  },
  {
   "cell_type": "code",
   "execution_count": 18,
   "id": "a00abd85-6ef0-4e23-bb73-f31e7e2dd0d6",
   "metadata": {},
   "outputs": [],
   "source": [
    "customer['gender'] = customer['gender'].str.capitalize()\n",
    "customer['job'] = customer['job'].str.capitalize()\n",
    "customer['industry'] = customer['industry'].str.capitalize()"
   ]
  },
  {
   "cell_type": "code",
   "execution_count": 19,
   "id": "7824a052-9218-46c6-8a47-e4f69ab4466f",
   "metadata": {},
   "outputs": [],
   "source": [
    "#repalce NaN by None in industry column"
   ]
  },
  {
   "cell_type": "code",
   "execution_count": 20,
   "id": "0cbcd097-ad29-4bfc-a394-017cc7c651f9",
   "metadata": {
    "scrolled": true
   },
   "outputs": [],
   "source": [
    "customer['industry'] = customer['industry'].fillna('None')"
   ]
  },
  {
   "cell_type": "markdown",
   "id": "9acedf9e-fe53-43ce-8e8b-277fee6b3d43",
   "metadata": {},
   "source": [
    "## Working with ticket sheet"
   ]
  },
  {
   "cell_type": "code",
   "execution_count": 22,
   "id": "103b3957-5d5e-4a57-89a9-8bcd51fcf1fa",
   "metadata": {},
   "outputs": [
    {
     "data": {
      "text/plain": [
       "orderid         96\n",
       "cashier          0\n",
       "saledate        96\n",
       "total           96\n",
       "customerid       0\n",
       "ticketcode       0\n",
       "date             0\n",
       "time             0\n",
       "slot             0\n",
       "room             0\n",
       "film             0\n",
       "slot type        0\n",
       "ticket type      0\n",
       "ticket price     0\n",
       "popcorn         96\n",
       "dtype: int64"
      ]
     },
     "execution_count": 22,
     "metadata": {},
     "output_type": "execute_result"
    }
   ],
   "source": [
    "ticket.isna().sum()"
   ]
  },
  {
   "cell_type": "code",
   "execution_count": 23,
   "id": "813936f7-4a80-4e01-9f6a-c66eeec162bd",
   "metadata": {},
   "outputs": [],
   "source": [
    "#remove NaN rows"
   ]
  },
  {
   "cell_type": "code",
   "execution_count": 24,
   "id": "c746e4f2-a90f-470f-aea7-8e532916857a",
   "metadata": {},
   "outputs": [],
   "source": [
    "ticket = ticket.dropna()"
   ]
  },
  {
   "cell_type": "code",
   "execution_count": 25,
   "id": "7129577d-7475-4c61-bf00-98317a5921bd",
   "metadata": {
    "scrolled": true
   },
   "outputs": [
    {
     "data": {
      "text/html": [
       "<div>\n",
       "<style scoped>\n",
       "    .dataframe tbody tr th:only-of-type {\n",
       "        vertical-align: middle;\n",
       "    }\n",
       "\n",
       "    .dataframe tbody tr th {\n",
       "        vertical-align: top;\n",
       "    }\n",
       "\n",
       "    .dataframe thead th {\n",
       "        text-align: right;\n",
       "    }\n",
       "</style>\n",
       "<table border=\"1\" class=\"dataframe\">\n",
       "  <thead>\n",
       "    <tr style=\"text-align: right;\">\n",
       "      <th></th>\n",
       "      <th>orderid</th>\n",
       "      <th>cashier</th>\n",
       "      <th>saledate</th>\n",
       "      <th>total</th>\n",
       "      <th>customerid</th>\n",
       "      <th>ticketcode</th>\n",
       "      <th>date</th>\n",
       "      <th>time</th>\n",
       "      <th>slot</th>\n",
       "      <th>room</th>\n",
       "      <th>film</th>\n",
       "      <th>slot type</th>\n",
       "      <th>ticket type</th>\n",
       "      <th>ticket price</th>\n",
       "      <th>popcorn</th>\n",
       "    </tr>\n",
       "  </thead>\n",
       "  <tbody>\n",
       "  </tbody>\n",
       "</table>\n",
       "</div>"
      ],
      "text/plain": [
       "Empty DataFrame\n",
       "Columns: [orderid, cashier, saledate, total, customerid, ticketcode, date, time, slot, room, film, slot type, ticket type, ticket price, popcorn]\n",
       "Index: []"
      ]
     },
     "execution_count": 25,
     "metadata": {},
     "output_type": "execute_result"
    }
   ],
   "source": [
    "ticket[ticket['orderid'].isna()]"
   ]
  },
  {
   "cell_type": "code",
   "execution_count": 26,
   "id": "2ae6026a-434f-4c4a-88ae-b5d9b6daa02d",
   "metadata": {},
   "outputs": [],
   "source": [
    "#remove unecessary columns "
   ]
  },
  {
   "cell_type": "code",
   "execution_count": 27,
   "id": "694dff35-9b97-45e0-87c3-d08172d5b25b",
   "metadata": {},
   "outputs": [],
   "source": [
    "ticket = ticket.drop(columns = {'saledate', 'total', 'ticket type'})"
   ]
  },
  {
   "cell_type": "code",
   "execution_count": 28,
   "id": "1546833d-a11f-4ace-8137-c08b3e0c53b2",
   "metadata": {},
   "outputs": [],
   "source": [
    "ticket.rename(columns = {'ticketcode':'ticket_code', 'slot type':'ticket_type', 'ticket price':'ticket_price' }, inplace = True)"
   ]
  },
  {
   "cell_type": "code",
   "execution_count": 29,
   "id": "5f3b30b3-2f22-4859-a9e9-b4e5816152d5",
   "metadata": {},
   "outputs": [],
   "source": [
    "#change values in ticket_type and popcorn column"
   ]
  },
  {
   "cell_type": "code",
   "execution_count": 30,
   "id": "aed5e8c4-a7ca-4ae4-8f70-1a24ffa4bd00",
   "metadata": {},
   "outputs": [],
   "source": [
    "ticket['ticket_type'] = ticket['ticket_type'].str.replace('ĐƠN','Single')\n",
    "ticket['ticket_type'] = ticket['ticket_type'].str.replace('ĐÔI','Pair')"
   ]
  },
  {
   "cell_type": "code",
   "execution_count": 31,
   "id": "4c2c923c-4ba2-4977-ad98-3cd9deb86c78",
   "metadata": {},
   "outputs": [],
   "source": [
    "ticket['popcorn'] = ticket['popcorn'].str.replace('Có','1')\n",
    "ticket['popcorn'] = ticket['popcorn'].str.replace('Không','0')"
   ]
  },
  {
   "cell_type": "code",
   "execution_count": 32,
   "id": "8f183704-8341-4502-9c78-c6e8694bd1aa",
   "metadata": {},
   "outputs": [],
   "source": [
    "#Add days_of_week column"
   ]
  },
  {
   "cell_type": "code",
   "execution_count": 33,
   "id": "504371bc-3eaf-4a28-aaea-038e412caa89",
   "metadata": {},
   "outputs": [],
   "source": [
    "ticket['days_of_week'] = pd.to_datetime(ticket['date']).dt.weekday"
   ]
  },
  {
   "cell_type": "code",
   "execution_count": 34,
   "id": "be0ac5e6-1546-40c8-9cf4-a924dea3fe80",
   "metadata": {},
   "outputs": [],
   "source": [
    "ticket['days_of_week'] = ticket['days_of_week'].astype(str).replace('0','Mon')\n",
    "ticket['days_of_week'] = ticket['days_of_week'].astype(str).replace('1','Tue')\n",
    "ticket['days_of_week'] = ticket['days_of_week'].astype(str).replace('2','Wed')\n",
    "ticket['days_of_week'] = ticket['days_of_week'].astype(str).replace('3','Thurs')\n",
    "ticket['days_of_week'] = ticket['days_of_week'].astype(str).replace('4','Fri')\n",
    "ticket['days_of_week'] = ticket['days_of_week'].astype(str).replace('5','Sat')\n",
    "ticket['days_of_week'] = ticket['days_of_week'].astype(str).replace('6','Sun')"
   ]
  },
  {
   "cell_type": "code",
   "execution_count": 35,
   "id": "36ff2eb5-8d32-45d1-9c84-ad57c6653b52",
   "metadata": {},
   "outputs": [],
   "source": [
    "#Add group_time column"
   ]
  },
  {
   "cell_type": "code",
   "execution_count": 36,
   "id": "bcd59ddc-9ade-4a29-9861-28c24b46b420",
   "metadata": {},
   "outputs": [],
   "source": [
    "ticket['time'] = ticket['time'].astype(str).apply(lambda x: x[:-3])"
   ]
  },
  {
   "cell_type": "code",
   "execution_count": 37,
   "id": "327035ce-1e10-4ed1-a771-c080ce7db6c6",
   "metadata": {},
   "outputs": [
    {
     "name": "stderr",
     "output_type": "stream",
     "text": [
      "C:\\Users\\tranv\\AppData\\Local\\Temp\\ipykernel_4900\\4201616613.py:14: UserWarning: Could not infer format, so each element will be parsed individually, falling back to `dateutil`. To ensure parsing is consistent and as-expected, please specify a format.\n",
      "  ticket['session'] = pd.to_datetime(ticket['time']).apply(map_to_session)\n"
     ]
    }
   ],
   "source": [
    "# Define time intervals and corresponding session names\n",
    "time_intervals = [(21, 24), (0, 5), (5, 12), (12, 18), (18, 21)]\n",
    "session_names = ['Night', 'Night', 'Morning', 'Afternoon', 'Evening']\n",
    "\n",
    "# Function to map time to session\n",
    "def map_to_session(time):\n",
    "    hour = time.hour\n",
    "    for i, (start, end) in enumerate(time_intervals):\n",
    "        if start <= hour < end:\n",
    "            return session_names[i]\n",
    "    return 'Unknown'  \n",
    "\n",
    "# Apply the function to create the 'session' column\n",
    "ticket['session'] = pd.to_datetime(ticket['time']).apply(map_to_session)\n"
   ]
  },
  {
   "cell_type": "code",
   "execution_count": 38,
   "id": "4445549e-1899-4c21-b4f9-0d8b573e0b9e",
   "metadata": {},
   "outputs": [
    {
     "data": {
      "text/plain": [
       "session\n",
       "Evening      13766\n",
       "Afternoon    13405\n",
       "Night         4127\n",
       "Morning       4080\n",
       "Name: count, dtype: int64"
      ]
     },
     "execution_count": 38,
     "metadata": {},
     "output_type": "execute_result"
    }
   ],
   "source": [
    "ticket['session'].value_counts()"
   ]
  },
  {
   "cell_type": "code",
   "execution_count": 39,
   "id": "c4e5c724-f8c9-4d3e-a486-a343d2377b9a",
   "metadata": {},
   "outputs": [
    {
     "data": {
      "text/plain": [
       "session\n",
       "Evening      13766\n",
       "Afternoon    13405\n",
       "Night         4127\n",
       "Morning       4080\n",
       "Name: count, dtype: int64"
      ]
     },
     "execution_count": 39,
     "metadata": {},
     "output_type": "execute_result"
    }
   ],
   "source": [
    "ticket['session'].value_counts()"
   ]
  },
  {
   "cell_type": "code",
   "execution_count": 41,
   "id": "f097286e-5a0d-4368-a718-ef71efb4a67b",
   "metadata": {},
   "outputs": [],
   "source": [
    "#Import in4_film table"
   ]
  },
  {
   "cell_type": "code",
   "execution_count": 42,
   "id": "63b284d9-a41f-496f-8d26-31bdc04da861",
   "metadata": {},
   "outputs": [],
   "source": [
    "in4_film = pd.read_excel('in4_film.xlsx')"
   ]
  },
  {
   "cell_type": "code",
   "execution_count": 43,
   "id": "db1feade-bb64-425b-bd2c-4c29d843497c",
   "metadata": {},
   "outputs": [],
   "source": [
    "ticket1 = pd.merge(ticket, in4_film, on='film', how='left')"
   ]
  },
  {
   "cell_type": "code",
   "execution_count": 46,
   "id": "92545f60-b0ba-4a86-bc23-c301c03dc1ab",
   "metadata": {},
   "outputs": [],
   "source": [
    "#romove outlining values in age column\n",
    "customer = customer.drop(customer[customer['age'] < 0].index)"
   ]
  },
  {
   "cell_type": "code",
   "execution_count": 49,
   "id": "97abf945-950b-4128-ad27-09e1b7f38982",
   "metadata": {},
   "outputs": [],
   "source": [
    "#export the customer and ticket1 "
   ]
  },
  {
   "cell_type": "code",
   "execution_count": 50,
   "id": "56c3a86a-16b0-43c3-b7d2-5caa328cf13c",
   "metadata": {},
   "outputs": [],
   "source": [
    "customer.to_excel('customer.xlsx', index=False)"
   ]
  },
  {
   "cell_type": "code",
   "execution_count": 51,
   "id": "690664c5-1948-4749-a6d0-374459231fa6",
   "metadata": {},
   "outputs": [],
   "source": [
    "ticket1.to_excel('ticket1.xlsx', index=False)"
   ]
  },
  {
   "cell_type": "code",
   "execution_count": null,
   "id": "9cf6e573-e250-4aa9-85db-33106ac86069",
   "metadata": {},
   "outputs": [],
   "source": []
  }
 ],
 "metadata": {
  "kernelspec": {
   "display_name": "Python 3 (ipykernel)",
   "language": "python",
   "name": "python3"
  },
  "language_info": {
   "codemirror_mode": {
    "name": "ipython",
    "version": 3
   },
   "file_extension": ".py",
   "mimetype": "text/x-python",
   "name": "python",
   "nbconvert_exporter": "python",
   "pygments_lexer": "ipython3",
   "version": "3.11.5"
  }
 },
 "nbformat": 4,
 "nbformat_minor": 5
}
